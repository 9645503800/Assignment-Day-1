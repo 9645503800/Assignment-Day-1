{
  "nbformat": 4,
  "nbformat_minor": 0,
  "metadata": {
    "colab": {
      "name": "Pilot Navigation.ipynb",
      "provenance": [],
      "collapsed_sections": [],
      "authorship_tag": "ABX9TyPcb5tTB9l3xVKWbMDN3kME",
      "include_colab_link": true
    },
    "kernelspec": {
      "display_name": "Python 3",
      "name": "python3"
    },
    "language_info": {
      "name": "python"
    }
  },
  "cells": [
    {
      "cell_type": "markdown",
      "metadata": {
        "id": "view-in-github",
        "colab_type": "text"
      },
      "source": [
        "<a href=\"https://colab.research.google.com/github/9645503800/Assignment-Day-1/blob/main/Pilot_Navigation.ipynb\" target=\"_parent\"><img src=\"https://colab.research.google.com/assets/colab-badge.svg\" alt=\"Open In Colab\"/></a>"
      ]
    },
    {
      "cell_type": "code",
      "metadata": {
        "id": "MYrG4oozMVXD"
      },
      "source": [
        " \n",
        "Alt= int(input(\"Hello pilot! Hope you had a nice journey. For landing, provide  us your current Altitude:\"))\n",
        " \n",
        "if Alt <=  3000:\n",
        "        print(\"YES!! You can land here safely.\")\n",
        "    \n",
        "elif Alt < 6000 > 3000:\n",
        "        print(\"You could give a to try to land safely.\")\n",
        " \n",
        "else:\n",
        "        print(\"GO AROUND!!!\")"
      ],
      "execution_count": null,
      "outputs": []
    },
    {
      "cell_type": "code",
      "metadata": {
        "id": "IOiZWX2vMZmQ"
      },
      "source": [
        ""
      ],
      "execution_count": null,
      "outputs": []
    }
  ]
}